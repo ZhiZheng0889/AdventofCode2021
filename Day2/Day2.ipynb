{
 "cells": [
  {
   "cell_type": "code",
   "execution_count": 1,
   "id": "899da504-373b-4f84-a181-e33a5e58c0f3",
   "metadata": {},
   "outputs": [
    {
     "name": "stdout",
     "output_type": "stream",
     "text": [
      "2070300\n"
     ]
    }
   ],
   "source": [
    "def submarine_course(filename):\n",
    "    horizontal_position = 0\n",
    "    depth = 0\n",
    "    with open(filename, 'r') as file:\n",
    "        for line in file:\n",
    "            action, value = line.strip().split()\n",
    "            value = int(value)\n",
    "            if action == 'forward':\n",
    "                horizontal_position += value\n",
    "            elif action == 'down':\n",
    "                depth += value\n",
    "            elif action == 'up':\n",
    "                depth -= value\n",
    "    return horizontal_position * depth\n",
    "\n",
    "print(submarine_course('Day2.txt'))\n"
   ]
  },
  {
   "cell_type": "code",
   "execution_count": 3,
   "id": "81894c2a-bb06-462b-9873-b59039322f83",
   "metadata": {},
   "outputs": [
    {
     "name": "stdout",
     "output_type": "stream",
     "text": [
      "2078985210\n"
     ]
    }
   ],
   "source": [
    "def submarine_course(filename):\n",
    "    horizontal_position = 0\n",
    "    depth = 0\n",
    "    aim = 0\n",
    "    with open(filename, 'r') as file:\n",
    "        for line in file:\n",
    "            action, value = line.strip().split()\n",
    "            value = int(value)\n",
    "            if action == 'forward':\n",
    "                horizontal_position += value\n",
    "                depth += aim * value\n",
    "            elif action == 'down':\n",
    "                aim += value\n",
    "            elif action == 'up':\n",
    "                aim -= value\n",
    "    return horizontal_position * depth\n",
    "\n",
    "print(submarine_course('Day2.txt'))\n"
   ]
  },
  {
   "cell_type": "code",
   "execution_count": null,
   "id": "57166bfb-6288-48b6-9e9b-ab4d8ae77424",
   "metadata": {},
   "outputs": [],
   "source": []
  }
 ],
 "metadata": {
  "kernelspec": {
   "display_name": "Python 3 (ipykernel)",
   "language": "python",
   "name": "python3"
  },
  "language_info": {
   "codemirror_mode": {
    "name": "ipython",
    "version": 3
   },
   "file_extension": ".py",
   "mimetype": "text/x-python",
   "name": "python",
   "nbconvert_exporter": "python",
   "pygments_lexer": "ipython3",
   "version": "3.10.9"
  }
 },
 "nbformat": 4,
 "nbformat_minor": 5
}

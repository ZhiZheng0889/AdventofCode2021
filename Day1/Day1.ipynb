{
 "cells": [
  {
   "cell_type": "code",
   "execution_count": 1,
   "id": "5c5c102c-f3b9-40ea-aeb4-7ab733b857c3",
   "metadata": {},
   "outputs": [
    {
     "name": "stdout",
     "output_type": "stream",
     "text": [
      "1521\n"
     ]
    }
   ],
   "source": [
    "def count_increases_from_file(filename):\n",
    "    with open(filename, 'r') as file:\n",
    "        measurements = [int(line.strip()) for line in file]\n",
    "    return count_increases(measurements)\n",
    "\n",
    "def count_increases(measurements):\n",
    "    counter = 0\n",
    "    for i in range(1, len(measurements)):\n",
    "        if measurements[i] > measurements[i - 1]:\n",
    "            counter += 1\n",
    "    return counter\n",
    "\n",
    "print(count_increases_from_file('Day1.txt'))\n"
   ]
  },
  {
   "cell_type": "code",
   "execution_count": 2,
   "id": "f04ee5fe-8d46-42eb-ad2b-e723d7b0918d",
   "metadata": {},
   "outputs": [
    {
     "name": "stdout",
     "output_type": "stream",
     "text": [
      "1543\n"
     ]
    }
   ],
   "source": [
    "def count_increases(measurements, window_size):\n",
    "    # Calculate the sum for the first window\n",
    "    previous_sum = sum(measurements[:window_size])\n",
    "    \n",
    "    counter = 0\n",
    "    # Loop through the measurements, starting from the window size\n",
    "    for i in range(window_size, len(measurements)):\n",
    "        # Calculate the sum for the current window\n",
    "        current_sum = sum(measurements[i-window_size+1:i+1])\n",
    "        # If the current sum is larger than the previous sum\n",
    "        if current_sum > previous_sum:\n",
    "            # Increase the counter\n",
    "            counter += 1\n",
    "        # Update the previous sum\n",
    "        previous_sum = current_sum\n",
    "    return counter\n",
    "\n",
    "def count_increases_from_file(filename, window_size):\n",
    "    with open(filename, 'r') as file:\n",
    "        measurements = [int(line.strip()) for line in file]\n",
    "    return count_increases(measurements, window_size)\n",
    "\n",
    "print(count_increases_from_file('Day1.txt', 3))\n"
   ]
  },
  {
   "cell_type": "code",
   "execution_count": null,
   "id": "abe7c0c4-2845-40e2-89ae-249daaf2c747",
   "metadata": {},
   "outputs": [],
   "source": []
  }
 ],
 "metadata": {
  "kernelspec": {
   "display_name": "Python 3 (ipykernel)",
   "language": "python",
   "name": "python3"
  },
  "language_info": {
   "codemirror_mode": {
    "name": "ipython",
    "version": 3
   },
   "file_extension": ".py",
   "mimetype": "text/x-python",
   "name": "python",
   "nbconvert_exporter": "python",
   "pygments_lexer": "ipython3",
   "version": "3.10.9"
  }
 },
 "nbformat": 4,
 "nbformat_minor": 5
}

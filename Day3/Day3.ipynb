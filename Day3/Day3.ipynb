{
 "cells": [
  {
   "cell_type": "code",
   "execution_count": 1,
   "id": "685a0777-3901-4611-be19-c74fa8506145",
   "metadata": {},
   "outputs": [
    {
     "name": "stdout",
     "output_type": "stream",
     "text": [
      "4147524\n"
     ]
    }
   ],
   "source": [
    "def binary_diagnostic(filename):\n",
    "    with open(filename, 'r') as file:\n",
    "        binary_numbers = [line.strip() for line in file]\n",
    "    \n",
    "    gamma_rate = ''\n",
    "    epsilon_rate = ''\n",
    "    length = len(binary_numbers[0])\n",
    "    \n",
    "    for i in range(length):\n",
    "        count_ones = sum(line[i] == '1' for line in binary_numbers)\n",
    "        count_zeroes = len(binary_numbers) - count_ones\n",
    "        gamma_rate += '1' if count_ones > count_zeroes else '0'\n",
    "        epsilon_rate += '0' if count_ones > count_zeroes else '1'\n",
    "    \n",
    "    gamma_rate_decimal = int(gamma_rate, 2)\n",
    "    epsilon_rate_decimal = int(epsilon_rate, 2)\n",
    "    \n",
    "    return gamma_rate_decimal * epsilon_rate_decimal\n",
    "\n",
    "print(binary_diagnostic('Day3.txt'))\n"
   ]
  },
  {
   "cell_type": "code",
   "execution_count": 6,
   "id": "70825b29-c60a-4286-9f1e-25667b9551ba",
   "metadata": {},
   "outputs": [
    {
     "name": "stdout",
     "output_type": "stream",
     "text": [
      "3570354\n"
     ]
    }
   ],
   "source": [
    "def life_support_rating(filename):\n",
    "    with open(filename, 'r') as file:\n",
    "        binary_numbers = [line.strip() for line in file]\n",
    "    \n",
    "    def find_rating(most_common):\n",
    "        numbers = binary_numbers\n",
    "        last_number = None\n",
    "        for i in range(len(numbers[0])):\n",
    "            count_ones = sum(line[i] == '1' for line in numbers)\n",
    "            count_zeroes = len(numbers) - count_ones\n",
    "            if count_ones > count_zeroes:\n",
    "                common_bit = '1' if most_common else '0'\n",
    "            elif count_zeroes > count_ones:\n",
    "                common_bit = '0' if most_common else '1'\n",
    "            else: # when count_ones == count_zeroes\n",
    "                common_bit = '1' if most_common else '0'\n",
    "            numbers = [line for line in numbers if line[i] == common_bit]\n",
    "            if not numbers: # if numbers list is empty, return the last_number\n",
    "                return int(last_number, 2)\n",
    "            last_number = numbers[0]\n",
    "        return int(last_number, 2)\n",
    "    \n",
    "    oxygen_generator_rating = find_rating(most_common=True)\n",
    "    co2_scrubber_rating = find_rating(most_common=False)\n",
    "    \n",
    "    return oxygen_generator_rating * co2_scrubber_rating\n",
    "\n",
    "print(life_support_rating('Day3.txt'))\n"
   ]
  },
  {
   "cell_type": "code",
   "execution_count": null,
   "id": "8068c18f-84e7-462a-b07b-1e0365836d74",
   "metadata": {},
   "outputs": [],
   "source": []
  }
 ],
 "metadata": {
  "kernelspec": {
   "display_name": "Python 3 (ipykernel)",
   "language": "python",
   "name": "python3"
  },
  "language_info": {
   "codemirror_mode": {
    "name": "ipython",
    "version": 3
   },
   "file_extension": ".py",
   "mimetype": "text/x-python",
   "name": "python",
   "nbconvert_exporter": "python",
   "pygments_lexer": "ipython3",
   "version": "3.10.9"
  }
 },
 "nbformat": 4,
 "nbformat_minor": 5
}
